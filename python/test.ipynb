{
 "cells": [
  {
   "cell_type": "code",
   "execution_count": 1,
   "metadata": {},
   "outputs": [],
   "source": [
    "%load_ext autoreload\n",
    "%autoreload 2"
   ]
  },
  {
   "cell_type": "code",
   "execution_count": 5,
   "metadata": {},
   "outputs": [
    {
     "name": "stdout",
     "output_type": "stream",
     "text": [
      "Processing c:\\home\\conda\\feedstock_root\\build_artifacts\\appnope_1649077682618\\work (from -r requirements.txt (line 3))\n",
      "Note: you may need to restart the kernel to use updated packages.\n"
     ]
    },
    {
     "name": "stderr",
     "output_type": "stream",
     "text": [
      "ERROR: Could not install packages due to an OSError: [Errno 2] No such file or directory: 'C:\\\\home\\\\conda\\\\feedstock_root\\\\build_artifacts\\\\appnope_1649077682618\\\\work'\n",
      "\n"
     ]
    }
   ],
   "source": [
    "%pip install -r requirements.txt"
   ]
  },
  {
   "cell_type": "code",
   "execution_count": 3,
   "metadata": {},
   "outputs": [],
   "source": [
    "from app.llm.userproject import FakeProject\n",
    "from app.llm.gpt import prompt\n",
    "\n",
    "my_project = FakeProject()"
   ]
  },
  {
   "cell_type": "code",
   "execution_count": 4,
   "metadata": {},
   "outputs": [
    {
     "name": "stdout",
     "output_type": "stream",
     "text": [
      "Calling function: new_file, args = {\"full_path\":\"src/random_numbers.py\"}\n",
      "Returned: success\n",
      "Calling function: open_file, args = {\"full_path\":\"src/random_numbers.py\"}\n",
      "Returned: success: see [OPEN FILE CONTENT] for the content of the opened file\n",
      "Calling function: insert_lines, args = {\"at\":1,\"append_content\":\"import random\\n\\nfor _ in range(10):\\n    print(random.randint(1, 100))\"}\n",
      "Returned: success\n",
      "Calling function: execute_command, args = {\"command\":\"python src/random_numbers.py\"}\n",
      "Returned: success\n"
     ]
    }
   ],
   "source": [
    "msg = prompt([], \"make and run a program that prints 10 random numbers\", my_project)"
   ]
  }
 ],
 "metadata": {
  "kernelspec": {
   "display_name": "base",
   "language": "python",
   "name": "python3"
  },
  "language_info": {
   "codemirror_mode": {
    "name": "ipython",
    "version": 3
   },
   "file_extension": ".py",
   "mimetype": "text/x-python",
   "name": "python",
   "nbconvert_exporter": "python",
   "pygments_lexer": "ipython3",
   "version": "3.11.3"
  }
 },
 "nbformat": 4,
 "nbformat_minor": 2
}
