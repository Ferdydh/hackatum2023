{
 "cells": [
  {
   "cell_type": "code",
   "execution_count": 1,
   "metadata": {},
   "outputs": [
    {
     "data": {
      "text/plain": [
       "{'role': 'assistant',\n",
       " 'content': '',\n",
       " 'tool_calls': [{'id': 'call_h10AaXydWdqJhhQjDbd8fPm1',\n",
       "   'type': 'function',\n",
       "   'function': {'name': 'get_current_weather',\n",
       "    'arguments': '{\"location\": \"Boston, MA\", \"unit\": \"celsius\"}'}},\n",
       "  {'id': 'call_Xw0QTubCEEpqigoizzYo0emN',\n",
       "   'type': 'function',\n",
       "   'function': {'name': 'get_current_weather',\n",
       "    'arguments': '{\"location\": \"Tokyo, Japan\", \"unit\": \"celsius\"}'}},\n",
       "  {'id': 'call_hqgXH5vZcghwClTb8SeCKGUM',\n",
       "   'type': 'function',\n",
       "   'function': {'name': 'get_current_weather',\n",
       "    'arguments': '{\"location\": \"Seoul, South Korea\", \"unit\": \"celsius\"}'}}]}"
      ]
     },
     "execution_count": 1,
     "metadata": {},
     "output_type": "execute_result"
    }
   ],
   "source": [
    "from dotenv import load_dotenv\n",
    "load_dotenv(override=True)\n",
    "from openai import AsyncOpenAI\n",
    "\n",
    "client = AsyncOpenAI()\n",
    "\n",
    "tools = [\n",
    "  {\n",
    "    \"type\": \"function\",\n",
    "    \"function\": {\n",
    "      \"name\": \"get_current_weather\",\n",
    "      \"description\": \"Get the current weather in a given location\",\n",
    "      \"parameters\": {\n",
    "        \"type\": \"object\",\n",
    "        \"properties\": {\n",
    "          \"location\": {\n",
    "            \"type\": \"string\",\n",
    "            \"description\": \"The city and state, e.g. San Francisco, CA\",\n",
    "          },\n",
    "          \"unit\": {\"type\": \"string\", \"enum\": [\"celsius\", \"fahrenheit\"]},\n",
    "        },\n",
    "        \"required\": [\"location\"],\n",
    "      },\n",
    "    }\n",
    "  }\n",
    "]\n",
    "messages = [{\"role\": \"user\", \"content\": \"What's the weather like in Boston, Tokyo and Seoul today?\"}]\n",
    "stream = await client.chat.completions.create(\n",
    "  model=\"gpt-3.5-turbo-1106\",\n",
    "  messages=messages,\n",
    "  tools=tools,\n",
    "  tool_choice=\"auto\",\n",
    "  stream=True\n",
    ")\n",
    "\n",
    "\n",
    "\n",
    "message = {\n",
    "    'role': 'assistant',\n",
    "    'content': '',\n",
    "    'tool_calls': []\n",
    "}\n",
    "\n",
    "async for chunk in stream:\n",
    "    delta = chunk.choices[0].delta\n",
    "    # Handle role updates\n",
    "    if delta.role:\n",
    "        message['role'] = delta.role\n",
    "    \n",
    "    # Handle content updates\n",
    "    if delta.content:\n",
    "        message['content'] += delta.content\n",
    "\n",
    "    # Handle tool calls\n",
    "    if delta.tool_calls:\n",
    "        for tool_call in delta.tool_calls:\n",
    "            call_index = tool_call.index\n",
    "            if len(message['tool_calls']) == call_index:\n",
    "                # new tool call started, so add a new empty object to the tool_calls list\n",
    "                message['tool_calls'].append({'id': None, 'type': 'function', 'function': {'name': '', 'arguments': ''}})\n",
    "            if tool_call.id:\n",
    "                message['tool_calls'][call_index]['id'] = tool_call.id\n",
    "            if tool_call.type:\n",
    "                message['tool_calls'][call_index]['type'] = tool_call.type\n",
    "            if tool_call.function.name:\n",
    "                message['tool_calls'][call_index]['function']['name'] = tool_call.function.name\n",
    "            if tool_call.function.arguments:\n",
    "                message['tool_calls'][call_index]['function']['arguments'] += tool_call.function.arguments\n",
    "\n",
    "message"
   ]
  },
  {
   "cell_type": "code",
   "execution_count": null,
   "metadata": {},
   "outputs": [],
   "source": []
  }
 ],
 "metadata": {
  "kernelspec": {
   "display_name": "base",
   "language": "python",
   "name": "python3"
  },
  "language_info": {
   "codemirror_mode": {
    "name": "ipython",
    "version": 3
   },
   "file_extension": ".py",
   "mimetype": "text/x-python",
   "name": "python",
   "nbconvert_exporter": "python",
   "pygments_lexer": "ipython3",
   "version": "3.11.3"
  }
 },
 "nbformat": 4,
 "nbformat_minor": 2
}
